{
  "nbformat": 4,
  "nbformat_minor": 0,
  "metadata": {
    "kernelspec": {
      "display_name": "Python 3",
      "language": "python",
      "name": "python3"
    },
    "language_info": {
      "codemirror_mode": {
        "name": "ipython",
        "version": 3
      },
      "file_extension": ".py",
      "mimetype": "text/x-python",
      "name": "python",
      "nbconvert_exporter": "python",
      "pygments_lexer": "ipython3",
      "version": "3.4.3"
    },
    "colab": {
      "name": "Copy of week3-Embeddings.ipynb",
      "provenance": [],
      "collapsed_sections": [],
      "toc_visible": true
    }
  },
  "cells": [
    {
      "cell_type": "markdown",
      "metadata": {
        "id": "lm92syF4wvUA",
        "colab_type": "text"
      },
      "source": [
        "# Find duplicate questions on StackOverflow by their embeddings\n",
        "\n",
        "In this assignment you will learn how to calculate a similarity for pieces of text. Using this approach you will know how to find duplicate questions from [StackOverflow](https://stackoverflow.com)."
      ]
    },
    {
      "cell_type": "markdown",
      "metadata": {
        "id": "1gyIIyzOwvUC",
        "colab_type": "text"
      },
      "source": [
        "### Libraries\n",
        "\n",
        "In this task you will you will need the following libraries:\n",
        "- [StarSpace](https://github.com/facebookresearch/StarSpace) — a general-purpose model for efficient learning of entity embeddings from Facebook\n",
        "- [Gensim](https://radimrehurek.com/gensim/) — a tool for solving various NLP-related tasks (topic modeling, text representation, ...)\n",
        "- [Numpy](http://www.numpy.org) — a package for scientific computing.\n",
        "- [scikit-learn](http://scikit-learn.org/stable/index.html) — a tool for data mining and data analysis.\n",
        "- [Nltk](http://www.nltk.org) — a platform to work with human language data."
      ]
    },
    {
      "cell_type": "markdown",
      "metadata": {
        "id": "nBhuFUpowvUC",
        "colab_type": "text"
      },
      "source": [
        "### Data\n",
        "\n",
        "The following cell will download all data required for this assignment into the folder `week3/data`."
      ]
    },
    {
      "cell_type": "code",
      "metadata": {
        "id": "hqmhYKAxwvUD",
        "colab_type": "code",
        "outputId": "3ad549a7-583f-4362-f2d4-c053b8e4a271",
        "colab": {
          "base_uri": "https://localhost:8080/",
          "height": 306,
          "referenced_widgets": [
            "2824da54f98445edbbaa5d89bee5ccab"
          ]
        }
      },
      "source": [
        "! wget https://raw.githubusercontent.com/hse-aml/natural-language-processing/master/setup_google_colab.py -O setup_google_colab.py\n",
        "import setup_google_colab\n",
        "setup_google_colab.setup_week3() \n",
        "import sys\n",
        "sys.path.append(\"..\")\n",
        "from common.download_utils import download_week3_resources\n",
        "\n",
        "download_week3_resources()"
      ],
      "execution_count": 0,
      "outputs": [
        {
          "output_type": "stream",
          "text": [
            "--2019-08-25 23:13:30--  https://raw.githubusercontent.com/hse-aml/natural-language-processing/master/setup_google_colab.py\n",
            "Resolving raw.githubusercontent.com (raw.githubusercontent.com)... 151.101.0.133, 151.101.64.133, 151.101.128.133, ...\n",
            "Connecting to raw.githubusercontent.com (raw.githubusercontent.com)|151.101.0.133|:443... connected.\n",
            "HTTP request sent, awaiting response... 200 OK\n",
            "Length: 2330 (2.3K) [text/plain]\n",
            "Saving to: ‘setup_google_colab.py’\n",
            "\n",
            "\rsetup_google_colab.   0%[                    ]       0  --.-KB/s               \rsetup_google_colab. 100%[===================>]   2.28K  --.-KB/s    in 0s      \n",
            "\n",
            "2019-08-25 23:13:30 (30.5 MB/s) - ‘setup_google_colab.py’ saved [2330/2330]\n",
            "\n",
            "File data/train.tsv is already downloaded.\n",
            "File data/validation.tsv is already downloaded.\n",
            "File data/test.tsv is already downloaded.\n",
            "File data/test_embeddings.tsv is already downloaded.\n",
            "Downloading GoogleNews-vectors-negative300.bin.gz (1.5G) for you, it will take a while...\n"
          ],
          "name": "stdout"
        },
        {
          "output_type": "display_data",
          "data": {
            "application/vnd.jupyter.widget-view+json": {
              "model_id": "2824da54f98445edbbaa5d89bee5ccab",
              "version_minor": 0,
              "version_major": 2
            },
            "text/plain": [
              "HBox(children=(IntProgress(value=0, max=1647046227), HTML(value='')))"
            ]
          },
          "metadata": {
            "tags": []
          }
        },
        {
          "output_type": "stream",
          "text": [
            "\n"
          ],
          "name": "stdout"
        }
      ]
    },
    {
      "cell_type": "markdown",
      "metadata": {
        "id": "BzGRTXEqwvUF",
        "colab_type": "text"
      },
      "source": [
        "### Grading\n",
        "We will create a grader instace below and use it to collect your answers. Note that these outputs will be stored locally inside grader and will be uploaded to platform only after running submiting function in the last part of this assignment. If you want to make partial submission, you can run that cell any time you want."
      ]
    },
    {
      "cell_type": "code",
      "metadata": {
        "id": "g-9HCMKHwvUG",
        "colab_type": "code",
        "colab": {}
      },
      "source": [
        "from grader import Grader"
      ],
      "execution_count": 0,
      "outputs": []
    },
    {
      "cell_type": "code",
      "metadata": {
        "id": "lzAf_kVOwvUI",
        "colab_type": "code",
        "colab": {}
      },
      "source": [
        "grader = Grader()"
      ],
      "execution_count": 0,
      "outputs": []
    },
    {
      "cell_type": "markdown",
      "metadata": {
        "id": "n3w17nFswvUK",
        "colab_type": "text"
      },
      "source": [
        "## Word embedding\n",
        "\n",
        "To solve the problem, you will use two different models of embeddings:\n",
        "\n",
        " - [Pre-trained word vectors](https://code.google.com/archive/p/word2vec/) from Google which were trained on a part of Google News dataset (about 100 billion words). The model contains 300-dimensional vectors for 3 million words and phrases. `GoogleNews-vectors-negative300.bin.gz` will be downloaded in `download_week3_resources()`.\n",
        " - Representations using StarSpace on StackOverflow data sample. You will need to train them from scratch."
      ]
    },
    {
      "cell_type": "markdown",
      "metadata": {
        "id": "jtcWwNjzwvUK",
        "colab_type": "text"
      },
      "source": [
        "It's always easier to start with pre-trained embeddings. Unpack the pre-trained Goggle's vectors and upload them using the function [KeyedVectors.load_word2vec_format](https://radimrehurek.com/gensim/models/keyedvectors.html) from gensim library with the parameter *binary=True*. If the size of the embeddings is larger than the avaliable memory, you could load only a part of the embeddings by defining the parameter *limit* (recommended: 500000)."
      ]
    },
    {
      "cell_type": "code",
      "metadata": {
        "id": "tQQW1IX9gEAG",
        "colab_type": "code",
        "outputId": "53c52620-9c1b-43e0-c775-511221d03891",
        "colab": {
          "base_uri": "https://localhost:8080/",
          "height": 292
        }
      },
      "source": [
        "pip install \"scipy<1.3\"\n"
      ],
      "execution_count": 0,
      "outputs": [
        {
          "output_type": "stream",
          "text": [
            "Collecting scipy<1.3\n",
            "\u001b[?25l  Downloading https://files.pythonhosted.org/packages/83/69/20c8f3b7efe362093dff891239551ff90d4c463b5f52676e2694fea09442/scipy-1.2.2-cp36-cp36m-manylinux1_x86_64.whl (24.8MB)\n",
            "\u001b[K     |████████████████████████████████| 24.8MB 1.3MB/s \n",
            "\u001b[?25hRequirement already satisfied: numpy>=1.8.2 in /usr/local/lib/python3.6/dist-packages (from scipy<1.3) (1.16.4)\n",
            "\u001b[31mERROR: albumentations 0.1.12 has requirement imgaug<0.2.7,>=0.2.5, but you'll have imgaug 0.2.9 which is incompatible.\u001b[0m\n",
            "Installing collected packages: scipy\n",
            "  Found existing installation: scipy 1.3.1\n",
            "    Uninstalling scipy-1.3.1:\n",
            "      Successfully uninstalled scipy-1.3.1\n",
            "Successfully installed scipy-1.2.2\n"
          ],
          "name": "stdout"
        },
        {
          "output_type": "display_data",
          "data": {
            "application/vnd.colab-display-data+json": {
              "pip_warning": {
                "packages": [
                  "scipy"
                ]
              }
            }
          },
          "metadata": {
            "tags": []
          }
        }
      ]
    },
    {
      "cell_type": "code",
      "metadata": {
        "id": "ojy6vrNvwvUL",
        "colab_type": "code",
        "colab": {}
      },
      "source": [
        "import gensim\n",
        "from gensim.models import Word2Vec\n",
        "from gensim.models import KeyedVectors\n"
      ],
      "execution_count": 0,
      "outputs": []
    },
    {
      "cell_type": "code",
      "metadata": {
        "id": "E1IIf9yCZ9hU",
        "colab_type": "code",
        "outputId": "cfcece17-6c09-4864-ac16-268773f1a634",
        "colab": {
          "base_uri": "https://localhost:8080/",
          "height": 187
        }
      },
      "source": [
        "!python3.6 -m pip install scipy==1.2.2 --upgrade\n"
      ],
      "execution_count": 0,
      "outputs": [
        {
          "output_type": "stream",
          "text": [
            "Collecting scipy==1.2.2\n",
            "\u001b[?25l  Downloading https://files.pythonhosted.org/packages/83/69/20c8f3b7efe362093dff891239551ff90d4c463b5f52676e2694fea09442/scipy-1.2.2-cp36-cp36m-manylinux1_x86_64.whl (24.8MB)\n",
            "\u001b[K     |████████████████████████████████| 24.8MB 63.4MB/s \n",
            "\u001b[?25hRequirement already satisfied, skipping upgrade: numpy>=1.8.2 in /usr/local/lib/python3.6/dist-packages (from scipy==1.2.2) (1.16.4)\n",
            "\u001b[31mERROR: albumentations 0.1.12 has requirement imgaug<0.2.7,>=0.2.5, but you'll have imgaug 0.2.9 which is incompatible.\u001b[0m\n",
            "Installing collected packages: scipy\n",
            "  Found existing installation: scipy 1.2.0\n",
            "    Uninstalling scipy-1.2.0:\n",
            "      Successfully uninstalled scipy-1.2.0\n",
            "Successfully installed scipy-1.2.2\n"
          ],
          "name": "stdout"
        }
      ]
    },
    {
      "cell_type": "code",
      "metadata": {
        "id": "LQm1xF-Nc7cK",
        "colab_type": "code",
        "outputId": "e9d755b8-514f-4106-9574-05c35cb6b3e9",
        "colab": {
          "base_uri": "https://localhost:8080/",
          "height": 238
        }
      },
      "source": [
        "!pip uninstall scipy\n",
        "!pip install scipy"
      ],
      "execution_count": 0,
      "outputs": [
        {
          "output_type": "stream",
          "text": [
            "\u001b[33mWARNING: Skipping scipy as it is not installed.\u001b[0m\n",
            "Collecting scipy\n",
            "\u001b[?25l  Downloading https://files.pythonhosted.org/packages/29/50/a552a5aff252ae915f522e44642bb49a7b7b31677f9580cfd11bcc869976/scipy-1.3.1-cp36-cp36m-manylinux1_x86_64.whl (25.2MB)\n",
            "\u001b[K     |████████████████████████████████| 25.2MB 56.3MB/s \n",
            "\u001b[?25hRequirement already satisfied: numpy>=1.13.3 in /usr/local/lib/python3.6/dist-packages (from scipy) (1.16.4)\n",
            "\u001b[31mERROR: albumentations 0.1.12 has requirement imgaug<0.2.7,>=0.2.5, but you'll have imgaug 0.2.9 which is incompatible.\u001b[0m\n",
            "Installing collected packages: scipy\n",
            "Successfully installed scipy-1.3.1\n"
          ],
          "name": "stdout"
        },
        {
          "output_type": "display_data",
          "data": {
            "application/vnd.colab-display-data+json": {
              "pip_warning": {
                "packages": [
                  "scipy"
                ]
              }
            }
          },
          "metadata": {
            "tags": []
          }
        }
      ]
    },
    {
      "cell_type": "code",
      "metadata": {
        "id": "b4EkaH5Dd7e4",
        "colab_type": "code",
        "colab": {}
      },
      "source": [
        "pip install gensim==3.4"
      ],
      "execution_count": 0,
      "outputs": []
    },
    {
      "cell_type": "code",
      "metadata": {
        "id": "igOutQhU7K5L",
        "colab_type": "code",
        "colab": {}
      },
      "source": [
        "from gensim import utils\n",
        "\n"
      ],
      "execution_count": 0,
      "outputs": []
    },
    {
      "cell_type": "code",
      "metadata": {
        "id": "S1YATkuvwvUM",
        "colab_type": "code",
        "outputId": "02215f7c-dfa9-4aa2-900b-e884a360dfba",
        "colab": {
          "base_uri": "https://localhost:8080/",
          "height": 71
        }
      },
      "source": [
        "wv_embeddings = KeyedVectors.load_word2vec_format(('/content/GoogleNews-vectors-negative300.bin.gz'),binary=True) "
      ],
      "execution_count": 0,
      "outputs": [
        {
          "output_type": "stream",
          "text": [
            "/usr/local/lib/python3.6/dist-packages/smart_open/smart_open_lib.py:398: UserWarning: This function is deprecated, use smart_open.open instead. See the migration notes for details: https://github.com/RaRe-Technologies/smart_open/blob/master/README.rst#migrating-to-the-new-open-function\n",
            "  'See the migration notes for details: %s' % _MIGRATION_NOTES_URL\n"
          ],
          "name": "stderr"
        }
      ]
    },
    {
      "cell_type": "markdown",
      "metadata": {
        "id": "ezDjX2tPwvUO",
        "colab_type": "text"
      },
      "source": [
        "### How to work with Google's word2vec embeddings?\n",
        "\n",
        "Once you have loaded the representations, make sure you can access them. First, you can check if the loaded embeddings contain a word:\n",
        "    \n",
        "    'word' in wv_embeddings\n",
        "    \n",
        "Second, to get the corresponding embedding you can use the square brackets:\n",
        "\n",
        "    wv_embeddings['word']\n",
        " \n",
        "### Checking that the embeddings are correct \n",
        " \n",
        "To prevent any errors during the first stage, we can check that the loaded embeddings are correct. You can call the function *check_embeddings*, implemented below, which runs 3 tests:\n",
        "1. Find the most similar word for provided \"positive\" and \"negative\" words.\n",
        "2. Find which word from the given list doesn’t go with the others.\n",
        "3. Find the most similar word for the provided one.\n",
        "\n",
        "In the right case the function will return the string *These embeddings look good*. Othervise, you need to validate the previous steps."
      ]
    },
    {
      "cell_type": "code",
      "metadata": {
        "id": "ZZ9oKUQuwvUP",
        "colab_type": "code",
        "colab": {}
      },
      "source": [
        "def check_embeddings(embeddings):\n",
        "    error_text = \"Something wrong with your embeddings ('%s test isn't correct).\"\n",
        "    most_similar = embeddings.most_similar(positive=['woman', 'king'], negative=['man'])\n",
        "    if len(most_similar) < 1 or most_similar[0][0] != 'queen':\n",
        "        return error_text % \"Most similar\"\n",
        "\n",
        "    doesnt_match = embeddings.doesnt_match(['breakfast', 'cereal', 'dinner', 'lunch'])\n",
        "    if doesnt_match != 'cereal':\n",
        "        return error_text % \"Doesn't match\"\n",
        "    \n",
        "    most_similar_to_given = embeddings.most_similar_to_given('music', ['water', 'sound', 'backpack', 'mouse'])\n",
        "    if most_similar_to_given != 'sound':\n",
        "        return error_text % \"Most similar to given\"\n",
        "    \n",
        "    return \"These embeddings look good.\""
      ],
      "execution_count": 0,
      "outputs": []
    },
    {
      "cell_type": "code",
      "metadata": {
        "id": "PSBQ05vHwvUQ",
        "colab_type": "code",
        "outputId": "11092235-00d1-4905-8dc5-832524d9d04d",
        "colab": {
          "base_uri": "https://localhost:8080/",
          "height": 105
        }
      },
      "source": [
        "print(check_embeddings(wv_embeddings))"
      ],
      "execution_count": 0,
      "outputs": [
        {
          "output_type": "stream",
          "text": [
            "/usr/local/lib/python3.6/dist-packages/gensim/matutils.py:737: FutureWarning: Conversion of the second argument of issubdtype from `int` to `np.signedinteger` is deprecated. In future, it will be treated as `np.int64 == np.dtype(int).type`.\n",
            "  max_id, veclen = mw.write_vector(docno, bow)\n"
          ],
          "name": "stderr"
        },
        {
          "output_type": "stream",
          "text": [
            "These embeddings look good.\n"
          ],
          "name": "stdout"
        },
        {
          "output_type": "stream",
          "text": [
            "/usr/local/lib/python3.6/dist-packages/gensim/models/keyedvectors.py:895: FutureWarning: arrays to stack must be passed as a \"sequence\" type such as list or tuple. Support for non-sequence iterables such as generators is deprecated as of NumPy 1.16 and will raise an error in the future.\n"
          ],
          "name": "stderr"
        }
      ]
    },
    {
      "cell_type": "markdown",
      "metadata": {
        "id": "MWUmwNtlwvUV",
        "colab_type": "text"
      },
      "source": [
        "## From word to text embeddings\n",
        "\n",
        "**Task 1 (Question2Vec).** Usually, we have word-based embeddings, but for the task we need to create a representation for the whole question. It could be done in different ways. In our case we will use a **mean** of all word vectors in the question. Now you need to implement the function *question_to_vec*, which calculates the question representation described above. This function should work with the input text as is without any preprocessing.\n",
        "\n",
        "Note that there could be words without the corresponding embeddings. In this case, you can just skip these words and don't take them into account during calculating the result. If the question doesn't contain any known word with embedding, the function should return a zero vector."
      ]
    },
    {
      "cell_type": "code",
      "metadata": {
        "id": "LgLIc0m_wvUV",
        "colab_type": "code",
        "colab": {}
      },
      "source": [
        "import numpy as np"
      ],
      "execution_count": 0,
      "outputs": []
    },
    {
      "cell_type": "code",
      "metadata": {
        "id": "VqirvrSjwvUY",
        "colab_type": "code",
        "colab": {}
      },
      "source": [
        "def question_to_vec(question, embeddings, dim=300):\n",
        "    \"\"\"\n",
        "        question: a string\n",
        "        embeddings: dict where the key is a word and a value is its' embedding\n",
        "        dim: size of the representation\n",
        "\n",
        "        result: vector representation for the question\n",
        "    \"\"\"\n",
        "    ans = np.zeros(dim)\n",
        "    count=0\n",
        "    for q in question.split():\n",
        "      if q in embeddings:\n",
        "        emb = embeddings[q][0:dim]\n",
        "        ans +=emb\n",
        "        count+=1\n",
        "    if count>=1:\n",
        "      return ans/(count)\n",
        "    else:\n",
        "      return ans\n",
        "    ######################################\n",
        "    ######### YOUR CODE HERE #############\n",
        "    ######################################"
      ],
      "execution_count": 0,
      "outputs": []
    },
    {
      "cell_type": "markdown",
      "metadata": {
        "id": "xtHP-EPzwvUb",
        "colab_type": "text"
      },
      "source": [
        "To check the basic correctness of your implementation, run the function *question_to_vec_tests*."
      ]
    },
    {
      "cell_type": "code",
      "metadata": {
        "id": "rV16eH4OwvUb",
        "colab_type": "code",
        "colab": {}
      },
      "source": [
        "def question_to_vec_tests():\n",
        "    if (np.zeros(300) != question_to_vec('', wv_embeddings)).any():\n",
        "        return \"You need to return zero vector for empty question.\"\n",
        "    if (np.zeros(300) != question_to_vec('thereisnosuchword', wv_embeddings)).any():\n",
        "        return \"You need to return zero vector for the question, which consists only unknown words.\"\n",
        "    if (wv_embeddings['word'] != question_to_vec('word', wv_embeddings)).any():\n",
        "        return \"You need to check the corectness of your function.\"\n",
        "    if ((wv_embeddings['I'] + wv_embeddings['am']) / 2 != question_to_vec('I am', wv_embeddings)).any():\n",
        "        return \"Your function should calculate a mean of word vectors.\"\n",
        "    if (wv_embeddings['word'] != question_to_vec('thereisnosuchword word', wv_embeddings)).any():\n",
        "        return \"You should not consider words which embeddings are unknown.\"\n",
        "    return \"Basic tests are passed.\""
      ],
      "execution_count": 0,
      "outputs": []
    },
    {
      "cell_type": "code",
      "metadata": {
        "id": "c-kWuLVtwvUd",
        "colab_type": "code",
        "outputId": "9f48e4a3-4960-41ef-a901-f34fd4b14c3d",
        "colab": {
          "base_uri": "https://localhost:8080/",
          "height": 34
        }
      },
      "source": [
        "print(question_to_vec_tests())"
      ],
      "execution_count": 0,
      "outputs": [
        {
          "output_type": "stream",
          "text": [
            "Basic tests are passed.\n"
          ],
          "name": "stdout"
        }
      ]
    },
    {
      "cell_type": "markdown",
      "metadata": {
        "id": "eKieYqeswvUe",
        "colab_type": "text"
      },
      "source": [
        "You can submit embeddings for the questions from the file *test_embeddings.tsv* to earn the points. In this task you don't need to transform the text of a question somehow."
      ]
    },
    {
      "cell_type": "code",
      "metadata": {
        "id": "qa5CRtq0wvUe",
        "colab_type": "code",
        "outputId": "8a14ff89-575c-44ae-8954-f5fadb07557b",
        "colab": {
          "base_uri": "https://localhost:8080/",
          "height": 51
        }
      },
      "source": [
        "import nltk\n",
        "nltk.download('stopwords')\n",
        "from util import array_to_string"
      ],
      "execution_count": 0,
      "outputs": [
        {
          "output_type": "stream",
          "text": [
            "[nltk_data] Downloading package stopwords to /root/nltk_data...\n",
            "[nltk_data]   Unzipping corpora/stopwords.zip.\n"
          ],
          "name": "stdout"
        }
      ]
    },
    {
      "cell_type": "code",
      "metadata": {
        "id": "ePcTiQkNwvUg",
        "colab_type": "code",
        "outputId": "51f8449b-f5b6-49ab-fc44-49e0dcb94f79",
        "colab": {
          "base_uri": "https://localhost:8080/",
          "height": 102
        }
      },
      "source": [
        "question2vec_result = []\n",
        "for question in open('data/test_embeddings.tsv'):\n",
        "    question = question.strip()\n",
        "    answer = question_to_vec(question, wv_embeddings)\n",
        "    question2vec_result = np.append(question2vec_result, answer)\n",
        "\n",
        "grader.submit_tag('Question2Vec', array_to_string(question2vec_result))"
      ],
      "execution_count": 0,
      "outputs": [
        {
          "output_type": "stream",
          "text": [
            "Current answer for task Question2Vec is: 0.019293891059027776\n",
            "-0.028727213541666668\n",
            "0.046056111653645836\n",
            "0.08525933159722222\n",
            "0.02430555555555...\n"
          ],
          "name": "stdout"
        }
      ]
    },
    {
      "cell_type": "markdown",
      "metadata": {
        "id": "sX4qqhavwvUh",
        "colab_type": "text"
      },
      "source": [
        "Now we have a method to create a representation of any sentence and we are ready for the first evaluation. So, let's check how well our solution (Google's vectors + *question_to_vec*) will work.\n",
        "\n",
        "## Evaluation of text similarity\n",
        "\n",
        "We can imagine that if we use good embeddings, the cosine similarity between the duplicate sentences should be less than for the random ones. Overall, for each pair of duplicate sentences we can generate *R* random negative examples and find out the position of the correct duplicate.  \n",
        "\n",
        "For example, we have the question *\"Exceptions What really happens\"* and we are sure that another question *\"How does the catch keyword determine the type of exception that was thrown\"* is a duplicate. But our model doesn't know it and tries to find out the best option also among questions like *\"How Can I Make These Links Rotate in PHP\"*, *\"NSLog array description not memory address\"* and *\"PECL_HTTP not recognised php ubuntu\"*. The goal of the model is to rank all these 4 questions (1 *positive* and *R* = 3 *negative*) in the way that the correct one is in the first place.\n",
        "\n",
        "However, it is unnatural to count on that the best candidate will be always in the first place. So let us consider the place of the best candidate in the sorted list of candidates and formulate a metric based on it. We can fix some *K* — a reasonalble number of top-ranked elements and *N* — a number of queries (size of the sample).\n",
        "\n",
        "### Hits@K\n",
        "\n",
        "The first simple metric will be a number of correct hits for some *K*:\n",
        "$$ \\text{Hits@K} = \\frac{1}{N}\\sum_{i=1}^N \\, [dup_i \\in topK(q_i)]$$\n",
        "\n",
        "where $q_i$ is the i-th query, $dup_i$ is its duplicate, $topK(q_i)$ is the top K elements of the ranked sentences provided by our model and the operation $[dup_i \\in topK(q_i)]$ equals 1 if the condition is true and 0 otherwise (more details about this operation could be found [here](https://en.wikipedia.org/wiki/Iverson_bracket)).\n",
        "\n",
        "\n",
        "### DCG@K\n",
        "The second one is a simplified [DCG metric](https://en.wikipedia.org/wiki/Discounted_cumulative_gain):\n",
        "\n",
        "$$ \\text{DCG@K} = \\frac{1}{N} \\sum_{i=1}^N\\frac{1}{\\log_2(1+rank_{dup_i})}\\cdot[rank_{dup_i} \\le K] $$\n",
        "\n",
        "where $rank_{dup_i}$ is a position of the duplicate in the sorted list of the nearest sentences for the query $q_i$. According to this metric, the model gets a higher reward for a higher position of the correct answer. If the answer does not appear in topK at all, the reward is zero. "
      ]
    },
    {
      "cell_type": "markdown",
      "metadata": {
        "id": "sB0hdsT2wvUi",
        "colab_type": "text"
      },
      "source": [
        "### Evaluation examples\n",
        "\n",
        "Let's calculate the described metrics for the toy example introduced above. In this case $N$ = 1 and the correct candidate for $q_1$ is *\"How does the catch keyword determine the type of exception that was thrown\"*. Consider the following ranking of the candidates:\n",
        "1. *\"How Can I Make These Links Rotate in PHP\"*\n",
        "2. *\"How does the catch keyword determine the type of exception that was thrown\"*\n",
        "3. *\"NSLog array description not memory address\"*\n",
        "4. *\"PECL_HTTP not recognised php ubuntu\"*\n",
        "\n",
        "Using the ranking above, calculate *Hits@K* metric for *K = 1, 2, 4*: \n",
        " \n",
        "- [K = 1] $\\text{Hits@1} = \\frac{1}{1}\\sum_{i=1}^1 \\, [dup_i \\in top1(q_i)] = [dup_1 \\in top1(q_1)] = 0$ because the correct answer doesn't appear in the *top1* list.\n",
        "- [K = 2] $\\text{Hits@2} = \\frac{1}{1}\\sum_{i=1}^1 \\, [dup_i \\in top2(q_i)] = [dup_1 \\in top2(q_1)] = 1$ because $rank_{dup_1} = 2$.\n",
        "- [K = 4] $\\text{Hits@4} = \\frac{1}{1}\\sum_{i=1}^1 \\, [dup_i \\in top4(q_i)] = [dup_1 \\in top4(q_1)] = 1$\n",
        "\n",
        "Using the ranking above, calculate *DCG@K* metric for *K = 1, 2, 4*:\n",
        "\n",
        "- [K = 1] $\\text{DCG@1} = \\frac{1}{1} \\sum_{i=1}^1\\frac{1}{\\log_2(1+rank_{dup_i})}\\cdot[rank_{dup_i} \\le 1] = \\frac{1}{\\log_2(1+rank_{dup_i})}\\cdot[rank_{dup_i} \\le 1] = 0$ because the correct answer doesn't appear in the top1 list.\n",
        "- [K = 2] $\\text{DCG@2} = \\frac{1}{1} \\sum_{i=1}^1\\frac{1}{\\log_2(1+rank_{dup_i})}\\cdot[rank_{dup_i} \\le 2] = \\frac{1}{\\log_2{3}}$, because $rank_{dup_1} = 2$.\n",
        "- [K = 4] $\\text{DCG@4} = \\frac{1}{1} \\sum_{i=1}^1\\frac{1}{\\log_2(1+rank_{dup_i})}\\cdot[rank_{dup_i} \\le 4] = \\frac{1}{\\log_2{3}}$.\n"
      ]
    },
    {
      "cell_type": "markdown",
      "metadata": {
        "id": "ZphJVyOzwvUi",
        "colab_type": "text"
      },
      "source": [
        "**Tasks 2 and 3 (HitsCount and DCGScore).** Implement the functions *hits_count* and *dcg_score* as described above. Each function has two arguments: *dup_ranks* and *k*. *dup_ranks* is a list which contains *values of ranks* of duplicates. For example, *dup_ranks* is *[2]* for the example provided above."
      ]
    },
    {
      "cell_type": "code",
      "metadata": {
        "id": "Umeqjb8GwvUj",
        "colab_type": "code",
        "colab": {}
      },
      "source": [
        "def hits_count(dup_ranks, k):\n",
        "    \"\"\"\n",
        "        dup_ranks: list of duplicates' ranks; one rank per question; \n",
        "                   length is a number of questions which we are looking for duplicates; \n",
        "                   rank is a number from 1 to len(candidates of the question); \n",
        "                   e.g. [2, 3] means that the first duplicate has the rank 2, the second one — 3.\n",
        "        k: number of top-ranked elements (k in Hits@k metric)\n",
        "\n",
        "        result: return Hits@k value for current ranking\n",
        "    \"\"\"\n",
        "    count=0\n",
        "    \n",
        "    n = len(dup_ranks)\n",
        "    if n==0:\n",
        "      print(dup_ranks)\n",
        "    for rank in (dup_ranks):\n",
        "        if rank <=k:\n",
        "          count+=1\n",
        "    return count*1.0/n\n",
        "      \n",
        "    ######################################\n",
        "    ######### YOUR CODE HERE #############\n",
        "    ######################################"
      ],
      "execution_count": 0,
      "outputs": []
    },
    {
      "cell_type": "markdown",
      "metadata": {
        "id": "k7VdKN9DwvUk",
        "colab_type": "text"
      },
      "source": [
        "Test your code on the tiny examples:"
      ]
    },
    {
      "cell_type": "code",
      "metadata": {
        "id": "CpjGD-mYwvUk",
        "colab_type": "code",
        "colab": {}
      },
      "source": [
        "def test_hits():\n",
        "    # *Evaluation example*\n",
        "    # answers — dup_i\n",
        "    answers = [\"How does the catch keyword determine the type of exception that was thrown\"]\n",
        "    \n",
        "    # candidates_ranking — the ranked sentences provided by our model\n",
        "    candidates_ranking = [[\"How Can I Make These Links Rotate in PHP\", \n",
        "                           \"How does the catch keyword determine the type of exception that was thrown\",\n",
        "                           \"NSLog array description not memory address\",\n",
        "                           \"PECL_HTTP not recognised php ubuntu\"]]\n",
        "    # dup_ranks — position of the dup_i in the list of ranks +1\n",
        "    dup_ranks = [candidates_ranking[i].index(answers[i]) + 1 for i in range(len(answers))]\n",
        "    \n",
        "    # correct_answers — the expected values of the result for each k from 1 to 4\n",
        "    correct_answers = [0, 1, 1, 1]\n",
        "    for k, correct in enumerate(correct_answers, 1):\n",
        "        if not np.isclose(hits_count(dup_ranks, k), correct):\n",
        "            return \"Check the function.\"\n",
        "    \n",
        "    # Other tests\n",
        "    answers = [\"How does the catch keyword determine the type of exception that was thrown\", \n",
        "               \"Convert Google results object (pure js) to Python object\"]\n",
        "    \n",
        "    # The first test: both duplicates on the first position in ranked list\n",
        "    candidates_ranking = [[\"How does the catch keyword determine the type of exception that was thrown\",\n",
        "                           \"How Can I Make These Links Rotate in PHP\"], \n",
        "                          [\"Convert Google results object (pure js) to Python object\",\n",
        "                           \"WPF- How to update the changes in list item of a list\"]]\n",
        "    dup_ranks = [candidates_ranking[i].index(answers[i]) + 1 for i in range(len(answers))]\n",
        "    correct_answers = [1, 1]\n",
        "    for k, correct in enumerate(correct_answers, 1):\n",
        "        if not np.isclose(hits_count(dup_ranks, k), correct):\n",
        "            return \"Check the function (test: both duplicates on the first position in ranked list).\"\n",
        "        \n",
        "    # The second test: one candidate on the first position, another — on the second\n",
        "    candidates_ranking = [[\"How Can I Make These Links Rotate in PHP\", \n",
        "                           \"How does the catch keyword determine the type of exception that was thrown\"], \n",
        "                          [\"Convert Google results object (pure js) to Python object\",\n",
        "                           \"WPF- How to update the changes in list item of a list\"]]\n",
        "    dup_ranks = [candidates_ranking[i].index(answers[i]) + 1 for i in range(len(answers))]\n",
        "    correct_answers = [0.5, 1]\n",
        "    for k, correct in enumerate(correct_answers, 1):\n",
        "        if not np.isclose(hits_count(dup_ranks, k), correct):\n",
        "            return \"Check the function (test: one candidate on the first position, another — on the second).\"\n",
        "\n",
        "    # The third test: both candidates on the second position\n",
        "    candidates_ranking = [[\"How Can I Make These Links Rotate in PHP\", \n",
        "                           \"How does the catch keyword determine the type of exception that was thrown\"], \n",
        "                          [\"WPF- How to update the changes in list item of a list\",\n",
        "                           \"Convert Google results object (pure js) to Python object\"]]\n",
        "    dup_ranks = [candidates_ranking[i].index(answers[i]) + 1 for i in range(len(answers))]\n",
        "    correct_answers = [0, 1]\n",
        "    for k, correct in enumerate(correct_answers, 1):\n",
        "        if not np.isclose(hits_count(dup_ranks, k), correct):\n",
        "            return \"Check the function (test: both candidates on the second position).\"\n",
        "\n",
        "    return \"Basic test are passed.\""
      ],
      "execution_count": 0,
      "outputs": []
    },
    {
      "cell_type": "code",
      "metadata": {
        "id": "6y3Q4ck_wvUm",
        "colab_type": "code",
        "outputId": "570035e7-6cc0-45d4-ba56-5433ae25f444",
        "colab": {
          "base_uri": "https://localhost:8080/",
          "height": 34
        }
      },
      "source": [
        "print(test_hits())"
      ],
      "execution_count": 0,
      "outputs": [
        {
          "output_type": "stream",
          "text": [
            "Basic test are passed.\n"
          ],
          "name": "stdout"
        }
      ]
    },
    {
      "cell_type": "code",
      "metadata": {
        "id": "aueKHCwjwvUo",
        "colab_type": "code",
        "colab": {}
      },
      "source": [
        "def dcg_score(dup_ranks, k):\n",
        "    \"\"\"\n",
        "        dup_ranks: list of duplicates' ranks; one rank per question; \n",
        "                   length is a number of questions which we are looking for duplicates; \n",
        "                   rank is a number from 1 to len(candidates of the question); \n",
        "                   e.g. [2, 3] means that the first duplicate has the rank 2, the second one — 3.\n",
        "        k: number of top-ranked elements (k in DCG@k metric)\n",
        "\n",
        "        result: return DCG@k value for current ranking\n",
        "    \"\"\"\n",
        "       \n",
        "    count=0.0\n",
        "    n = len(dup_ranks)\n",
        "    for rank in (dup_ranks):\n",
        "        if rank <=k:\n",
        "          count+=(1/np.log2(1+rank))\n",
        "    return count*1.0/n\n",
        "    ######################################\n",
        "    ######### YOUR CODE HERE #############\n",
        "    ######################################"
      ],
      "execution_count": 0,
      "outputs": []
    },
    {
      "cell_type": "code",
      "metadata": {
        "id": "JO9QqTHawvUq",
        "colab_type": "code",
        "colab": {}
      },
      "source": [
        "def test_dcg():\n",
        "    # *Evaluation example*\n",
        "    # answers — dup_i\n",
        "    answers = [\"How does the catch keyword determine the type of exception that was thrown\"]\n",
        "    \n",
        "    # candidates_ranking — the ranked sentences provided by our model\n",
        "    candidates_ranking = [[\"How Can I Make These Links Rotate in PHP\", \n",
        "                           \"How does the catch keyword determine the type of exception that was thrown\",\n",
        "                           \"NSLog array description not memory address\",\n",
        "                           \"PECL_HTTP not recognised php ubuntu\"]]\n",
        "    # dup_ranks — position of the dup_i in the list of ranks +1\n",
        "    dup_ranks = [candidates_ranking[i].index(answers[i]) + 1 for i in range(len(answers))]\n",
        "    \n",
        "    # correct_answers — the expected values of the result for each k from 1 to 4\n",
        "    correct_answers = [0, 1 / (np.log2(3)), 1 / (np.log2(3)), 1 / (np.log2(3))]\n",
        "    for k, correct in enumerate(correct_answers, 1):\n",
        "        if not np.isclose(dcg_score(dup_ranks, k), correct):\n",
        "            return \"Check the function.\"\n",
        "    \n",
        "    # Other tests\n",
        "    answers = [\"How does the catch keyword determine the type of exception that was thrown\", \n",
        "               \"Convert Google results object (pure js) to Python object\"]\n",
        "\n",
        "    # The first test: both duplicates on the first position in ranked list\n",
        "    candidates_ranking = [[\"How does the catch keyword determine the type of exception that was thrown\",\n",
        "                           \"How Can I Make These Links Rotate in PHP\"], \n",
        "                          [\"Convert Google results object (pure js) to Python object\",\n",
        "                           \"WPF- How to update the changes in list item of a list\"]]\n",
        "    dup_ranks = [candidates_ranking[i].index(answers[i]) + 1 for i in range(len(answers))]\n",
        "    correct_answers = [1, 1]\n",
        "    for k, correct in enumerate(correct_answers, 1):\n",
        "        if not np.isclose(dcg_score(dup_ranks, k), correct):\n",
        "            return \"Check the function (test: both duplicates on the first position in ranked list).\"\n",
        "        \n",
        "    # The second test: one candidate on the first position, another — on the second\n",
        "    candidates_ranking = [[\"How Can I Make These Links Rotate in PHP\", \n",
        "                           \"How does the catch keyword determine the type of exception that was thrown\"], \n",
        "                          [\"Convert Google results object (pure js) to Python object\",\n",
        "                           \"WPF- How to update the changes in list item of a list\"]]\n",
        "    dup_ranks = [candidates_ranking[i].index(answers[i]) + 1 for i in range(len(answers))]\n",
        "    correct_answers = [0.5, (1 + (1 / (np.log2(3)))) / 2]\n",
        "    for k, correct in enumerate(correct_answers, 1):\n",
        "        if not np.isclose(dcg_score(dup_ranks, k), correct):\n",
        "            return \"Check the function (test: one candidate on the first position, another — on the second).\"\n",
        "        \n",
        "    # The third test: both candidates on the second position\n",
        "    candidates_ranking = [[\"How Can I Make These Links Rotate in PHP\",\n",
        "                           \"How does the catch keyword determine the type of exception that was thrown\"], \n",
        "                          [\"WPF- How to update the changes in list item of a list\",\n",
        "                           \"Convert Google results object (pure js) to Python object\"]]\n",
        "    dup_ranks = [candidates_ranking[i].index(answers[i]) + 1 for i in range(len(answers))]\n",
        "    correct_answers = [0, 1 / (np.log2(3))]\n",
        "    for k, correct in enumerate(correct_answers, 1):\n",
        "        if not np.isclose(dcg_score(dup_ranks, k), correct):\n",
        "            return \"Check the function (test: both candidates on the second position).\"\n",
        "\n",
        "    return \"Basic test are passed.\""
      ],
      "execution_count": 0,
      "outputs": []
    },
    {
      "cell_type": "code",
      "metadata": {
        "id": "rc58skC9wvUt",
        "colab_type": "code",
        "outputId": "652e907c-6bc7-4680-a883-c14f016787a9",
        "colab": {
          "base_uri": "https://localhost:8080/",
          "height": 34
        }
      },
      "source": [
        "print(test_dcg())"
      ],
      "execution_count": 0,
      "outputs": [
        {
          "output_type": "stream",
          "text": [
            "Basic test are passed.\n"
          ],
          "name": "stdout"
        }
      ]
    },
    {
      "cell_type": "markdown",
      "metadata": {
        "id": "gKP8RazPwvUu",
        "colab_type": "text"
      },
      "source": [
        "Submit results of the functions *hits_count* and *dcg_score* for the following examples to earn the points."
      ]
    },
    {
      "cell_type": "code",
      "metadata": {
        "id": "Ogp7tzPswvUv",
        "colab_type": "code",
        "colab": {}
      },
      "source": [
        "test_examples = [\n",
        "    [1],\n",
        "    [1, 2],\n",
        "    [2, 1],\n",
        "    [1, 2, 3],\n",
        "    [1, 2, 3, 4, 5, 6, 7, 8, 9, 10],\n",
        "    [9, 5, 4, 2, 8, 10, 7, 6, 1, 3],\n",
        "    [4, 3, 5, 1, 9, 10, 7, 8, 2, 6],\n",
        "    [5, 1, 7, 6, 2, 3, 8, 9, 10, 4],\n",
        "    [6, 3, 1, 4, 7, 2, 9, 8, 10, 5],\n",
        "    [10, 9, 8, 7, 6, 5, 4, 3, 2, 1],\n",
        "]"
      ],
      "execution_count": 0,
      "outputs": []
    },
    {
      "cell_type": "code",
      "metadata": {
        "id": "Uaiv2SXTwvUy",
        "colab_type": "code",
        "outputId": "a9a0fc9c-2f79-46a8-95af-ab61c8039a5e",
        "colab": {
          "base_uri": "https://localhost:8080/",
          "height": 323
        }
      },
      "source": [
        "hits_results = []\n",
        "for example in test_examples:\n",
        "    for k in range(len(example)):\n",
        "        hits_results.append(hits_count(example, k + 1))\n",
        "grader.submit_tag('HitsCount', array_to_string(hits_results))"
      ],
      "execution_count": 0,
      "outputs": [
        {
          "output_type": "stream",
          "text": [
            "Current answer for task HitsCount is: 1.0\n",
            "0.5\n",
            "1.0\n",
            "0.5\n",
            "1.0\n",
            "0.3333333333333333\n",
            "0.6666666666666666\n",
            "1.0\n",
            "0.1\n",
            "0.2\n",
            "0.3\n",
            "0.4\n",
            "0.5\n",
            "0.6\n",
            "0.7\n",
            "0.8\n",
            "0.9\n",
            "1....\n"
          ],
          "name": "stdout"
        }
      ]
    },
    {
      "cell_type": "code",
      "metadata": {
        "id": "q_DdNuTzwvU0",
        "colab_type": "code",
        "outputId": "85943c16-7f75-4c06-adaf-b3d69e1dc51d",
        "colab": {
          "base_uri": "https://localhost:8080/",
          "height": 153
        }
      },
      "source": [
        "dcg_results = []\n",
        "for example in test_examples:\n",
        "    for k in range(len(example)):\n",
        "        dcg_results.append(dcg_score(example, k + 1))\n",
        "grader.submit_tag('DCGScore', array_to_string(dcg_results))"
      ],
      "execution_count": 0,
      "outputs": [
        {
          "output_type": "stream",
          "text": [
            "Current answer for task DCGScore is: 1.0\n",
            "0.5\n",
            "0.8154648767857288\n",
            "0.5\n",
            "0.8154648767857288\n",
            "0.3333333333333333\n",
            "0.5436432511904858\n",
            "0.7103099178...\n"
          ],
          "name": "stdout"
        }
      ]
    },
    {
      "cell_type": "markdown",
      "metadata": {
        "id": "zCbAC2ovwvU1",
        "colab_type": "text"
      },
      "source": [
        "##  First solution: pre-trained embeddings"
      ]
    },
    {
      "cell_type": "markdown",
      "metadata": {
        "id": "QPqt-gEXwvU2",
        "colab_type": "text"
      },
      "source": [
        "We will work with predefined train, validation and test corpora. All the files are tab-separated, but have a different format:\n",
        " - *train* corpus contains similar sentences at the same row.\n",
        " - *validation* corpus contains the following columns: *question*, *similar question*, *negative example 1*, *negative example 2*, ... \n",
        " - *test* corpus contains the following columns: *question*, *example 1*, *example 2*, ...\n",
        "\n",
        "Validation corpus will be used for the intermediate validation of models. The test data will be necessary for submitting the quality of your model in the system."
      ]
    },
    {
      "cell_type": "markdown",
      "metadata": {
        "id": "IKl5rOdbwvU2",
        "colab_type": "text"
      },
      "source": [
        "Now you should read *validation* corpus, located at `data/validation.tsv`. You will use it later to evaluate current solution."
      ]
    },
    {
      "cell_type": "code",
      "metadata": {
        "id": "Od4vXCOnwvU3",
        "colab_type": "code",
        "colab": {}
      },
      "source": [
        "def read_corpus(filename):\n",
        "    data = []\n",
        "    for line in open(filename, encoding='utf-8'):\n",
        "        data.append(line.strip().split('\\t'))\n",
        "    return data"
      ],
      "execution_count": 0,
      "outputs": []
    },
    {
      "cell_type": "code",
      "metadata": {
        "id": "wyJMVSrswvU7",
        "colab_type": "code",
        "colab": {}
      },
      "source": [
        "validation = read_corpus(\"data/validation.tsv\")"
      ],
      "execution_count": 0,
      "outputs": []
    },
    {
      "cell_type": "code",
      "metadata": {
        "id": "cCFrwt4bwvU8",
        "colab_type": "code",
        "colab": {}
      },
      "source": [
        "from sklearn.metrics.pairwise import cosine_similarity"
      ],
      "execution_count": 0,
      "outputs": []
    },
    {
      "cell_type": "markdown",
      "metadata": {
        "id": "sMCITmBNwvU-",
        "colab_type": "text"
      },
      "source": [
        "We will use cosine distance to rank candidate questions which you need to implement in the function *rank_candidates*. The function should return a sorted list of pairs *(initial position in candidates list, candidate)*. Index of some pair corresponds to its rank (the first is the best). For example, if the list of candidates was *[a, b, c]* and the most similar is *c*, then *a* and *b*, the function should return a list *[(2, c), (0, a), (1, b)]*.\n",
        "\n",
        "Pay attention, if you use the function *cosine_similarity* from *sklearn.metrics.pairwise* to calculate similarity because it works in a different way: most similar objects has greatest similarity. It's preferable to use a vectorized version of *cosine_similarity* function. Try to compute similarity at once and not use list comprehension. It should speed up your computations significantly."
      ]
    },
    {
      "cell_type": "code",
      "metadata": {
        "id": "GICpzja_wvU_",
        "colab_type": "code",
        "colab": {}
      },
      "source": [
        "def rank_candidates(question, candidates, embeddings, dim=300):\n",
        "    \"\"\"\n",
        "        question: a string\n",
        "        candidates: a list of strings (candidates) which we want to rank\n",
        "        embeddings: some embeddings\n",
        "        dim: dimension of the current embeddings\n",
        "        \n",
        "        result: a list of pairs (initial position in the list, question)\n",
        "    \"\"\"\n",
        "    question_vec = np.array([question_to_vec(question,embeddings,dim)])\n",
        "    sims = {} \n",
        "    for index,candidate in enumerate(candidates):\n",
        "      sim = cosine_similarity(np.array(question_vec),np.array([question_to_vec(candidate, embeddings,dim)]))\n",
        "      sims[index] = sim\n",
        "    sorted_dic = sorted(sims.items(), key = lambda kv:(kv[1], kv[0]), reverse=True)\n",
        "    return [(item[0],candidates[item[0]]) for index, item in enumerate(sorted_dic)]\n",
        "   \n",
        "      \n",
        "      \n",
        "      \n",
        "    ######################################\n",
        "    ######### YOUR CODE HERE #############\n",
        "    ######################################"
      ],
      "execution_count": 0,
      "outputs": []
    },
    {
      "cell_type": "markdown",
      "metadata": {
        "id": "LESOd0IywvVA",
        "colab_type": "text"
      },
      "source": [
        "Test your code on the tiny examples:"
      ]
    },
    {
      "cell_type": "code",
      "metadata": {
        "id": "9foP61O_wvVA",
        "colab_type": "code",
        "colab": {}
      },
      "source": [
        "def test_rank_candidates():\n",
        "    questions = ['converting string to list', 'Sending array via Ajax fails']\n",
        "    candidates = [['Convert Google results object (pure js) to Python object', \n",
        "                   'C# create cookie from string and send it',\n",
        "                   'How to use jQuery AJAX for an outside domain?'], \n",
        "                  ['Getting all list items of an unordered list in PHP', \n",
        "                   'WPF- How to update the changes in list item of a list', \n",
        "                   'select2 not displaying search results']]\n",
        "    results = [[(1, 'C# create cookie from string and send it'), \n",
        "                (0, 'Convert Google results object (pure js) to Python object'), \n",
        "                (2, 'How to use jQuery AJAX for an outside domain?')],\n",
        "               [(0, 'Getting all list items of an unordered list in PHP'), \n",
        "                (2, 'select2 not displaying search results'), \n",
        "                (1, 'WPF- How to update the changes in list item of a list')]]\n",
        "    for question, q_candidates, result in zip(questions, candidates, results):\n",
        "        ranks = rank_candidates(question, q_candidates, wv_embeddings, 300)\n",
        "        if not np.all(ranks == result):\n",
        "            return \"Check the function.\"\n",
        "    return \"Basic tests are passed.\""
      ],
      "execution_count": 0,
      "outputs": []
    },
    {
      "cell_type": "code",
      "metadata": {
        "id": "ulL5AO6JwvVC",
        "colab_type": "code",
        "outputId": "ed251ec2-7c6b-4cec-8ba5-86ad166b0b34",
        "colab": {
          "base_uri": "https://localhost:8080/",
          "height": 34
        }
      },
      "source": [
        "print(test_rank_candidates())"
      ],
      "execution_count": 0,
      "outputs": [
        {
          "output_type": "stream",
          "text": [
            "Basic tests are passed.\n"
          ],
          "name": "stdout"
        }
      ]
    },
    {
      "cell_type": "markdown",
      "metadata": {
        "id": "XyOpw5PHwvVD",
        "colab_type": "text"
      },
      "source": [
        "Now we can test the quality of the current approach. Run the next two cells to get the results. Pay attention that calculation of similarity between vectors takes time and this calculation is computed approximately in 10 minutes."
      ]
    },
    {
      "cell_type": "code",
      "metadata": {
        "id": "lmcjyERTwvVE",
        "colab_type": "code",
        "outputId": "579b6c3d-d46b-4e94-aa6f-b6a2e6417f09",
        "colab": {
          "base_uri": "https://localhost:8080/",
          "height": 357
        }
      },
      "source": [
        "import warnings\n",
        "warnings.filterwarnings('ignore')\n",
        "wv_ranking = []\n",
        "for index,line in enumerate(validation):\n",
        "    if(index%500==0):\n",
        "      print(index)\n",
        "    q, *ex = line\n",
        "    ranks = rank_candidates(q, ex, wv_embeddings)\n",
        "    wv_ranking.append([r[0] for r in ranks].index(0) + 1)"
      ],
      "execution_count": 0,
      "outputs": [
        {
          "output_type": "stream",
          "text": [
            "0\n",
            "500\n",
            "1000\n",
            "1500\n",
            "2000\n",
            "2500\n",
            "3000\n",
            "3500\n",
            "4000\n",
            "4500\n",
            "5000\n",
            "5500\n",
            "6000\n",
            "6500\n",
            "7000\n",
            "7500\n",
            "8000\n",
            "8500\n",
            "9000\n",
            "9500\n"
          ],
          "name": "stdout"
        }
      ]
    },
    {
      "cell_type": "code",
      "metadata": {
        "id": "9E7e4PLEwvVG",
        "colab_type": "code",
        "outputId": "7f6a9bb2-2990-4894-ae14-daf53ef6bc90",
        "colab": {
          "base_uri": "https://localhost:8080/",
          "height": 119
        }
      },
      "source": [
        "for k in [1, 5, 10, 100, 500, 1000]:\n",
        "    print(\"DCG@%4d: %.3f | Hits@%4d: %.3f\" % (k, dcg_score(wv_ranking, k), k, hits_count(wv_ranking, k)))"
      ],
      "execution_count": 0,
      "outputs": [
        {
          "output_type": "stream",
          "text": [
            "DCG@   1: 0.207 | Hits@   1: 0.207\n",
            "DCG@   5: 0.265 | Hits@   5: 0.316\n",
            "DCG@  10: 0.282 | Hits@  10: 0.367\n",
            "DCG@ 100: 0.320 | Hits@ 100: 0.557\n",
            "DCG@ 500: 0.353 | Hits@ 500: 0.814\n",
            "DCG@1000: 0.372 | Hits@1000: 1.000\n"
          ],
          "name": "stdout"
        }
      ]
    },
    {
      "cell_type": "markdown",
      "metadata": {
        "id": "Y-nxKMyDwvVH",
        "colab_type": "text"
      },
      "source": [
        "If you did all the steps correctly, you should be frustrated by the received results. Let's try to understand why the quality is so low. First of all, when you work with some data it is necessary to have an idea how the data looks like. Print several questions from the data:"
      ]
    },
    {
      "cell_type": "code",
      "metadata": {
        "id": "HhTZPGFswvVH",
        "colab_type": "code",
        "outputId": "72c2892a-11cf-4df9-cea2-4403e276ff4e",
        "colab": {
          "base_uri": "https://localhost:8080/",
          "height": 88
        }
      },
      "source": [
        "for line in validation[:3]:\n",
        "    q, *examples = line\n",
        "    print(q, *examples[:3])"
      ],
      "execution_count": 0,
      "outputs": [
        {
          "output_type": "stream",
          "text": [
            "How to print a binary heap tree without recursion? How do you best convert a recursive function to an iterative one? How can i use ng-model with directive in angular js flash: drawing and erasing\n",
            "How to start PhoneStateListener programmatically? PhoneStateListener and service Java cast object[] to model WCF and What does this mean?\n",
            "jQuery: Show a div2 when mousenter over div1 is over when hover on div1 depenting on if it is on div2 or not it should act differently How to run selenium in google app engine/cloud? Python Comparing two lists of strings for similarities\n"
          ],
          "name": "stdout"
        }
      ]
    },
    {
      "cell_type": "markdown",
      "metadata": {
        "id": "6lkRAZlGwvVJ",
        "colab_type": "text"
      },
      "source": [
        "As you can see, we deal with the raw data. It means that we have many punctuation marks, special characters and unlowercased letters. In our case, it could lead to the situation where we can't find some embeddings, e.g. for the word \"grid?\". \n",
        "\n",
        "To solve this problem you should use the functions *text_prepare* from the previous assignments to prepare the data."
      ]
    },
    {
      "cell_type": "code",
      "metadata": {
        "id": "hYoNVgKEwvVJ",
        "colab_type": "code",
        "colab": {}
      },
      "source": [
        "from util import text_prepare"
      ],
      "execution_count": 0,
      "outputs": []
    },
    {
      "cell_type": "code",
      "metadata": {
        "id": "XsJ77BQB-sbs",
        "colab_type": "code",
        "outputId": "16a099d5-98d4-4b1e-f663-5e71979a7eb0",
        "colab": {
          "base_uri": "https://localhost:8080/",
          "height": 34
        }
      },
      "source": [
        "len(validation)"
      ],
      "execution_count": 0,
      "outputs": [
        {
          "output_type": "execute_result",
          "data": {
            "text/plain": [
              "10000"
            ]
          },
          "metadata": {
            "tags": []
          },
          "execution_count": 31
        }
      ]
    },
    {
      "cell_type": "markdown",
      "metadata": {
        "id": "5lZL5LvHwvVL",
        "colab_type": "text"
      },
      "source": [
        "Now transform all the questions from the validation set:"
      ]
    },
    {
      "cell_type": "code",
      "metadata": {
        "id": "7x4WkEh7wvVL",
        "colab_type": "code",
        "outputId": "84589fb6-8c64-4e78-a4f7-ffff10016f00",
        "colab": {
          "base_uri": "https://localhost:8080/",
          "height": 357
        }
      },
      "source": [
        "prepared_validation = []\n",
        "for index,line in enumerate(validation):\n",
        "  if index%500==0:\n",
        "    print(index)\n",
        "  questions = []\n",
        "  for question in line:\n",
        "    question_prepared = text_prepare(question)\n",
        "    questions.append(question_prepared)\n",
        "  prepared_validation.append(questions)"
      ],
      "execution_count": 0,
      "outputs": [
        {
          "output_type": "stream",
          "text": [
            "0\n",
            "500\n",
            "1000\n",
            "1500\n",
            "2000\n",
            "2500\n",
            "3000\n",
            "3500\n",
            "4000\n",
            "4500\n",
            "5000\n",
            "5500\n",
            "6000\n",
            "6500\n",
            "7000\n",
            "7500\n",
            "8000\n",
            "8500\n",
            "9000\n",
            "9500\n"
          ],
          "name": "stdout"
        }
      ]
    },
    {
      "cell_type": "code",
      "metadata": {
        "id": "NQZkaLsNz8Ba",
        "colab_type": "code",
        "outputId": "87678159-e45a-4b9c-dd85-0b8280caebf7",
        "colab": {
          "base_uri": "https://localhost:8080/",
          "height": 34
        }
      },
      "source": [
        "len(prepared_validation)"
      ],
      "execution_count": 0,
      "outputs": [
        {
          "output_type": "execute_result",
          "data": {
            "text/plain": [
              "10000"
            ]
          },
          "metadata": {
            "tags": []
          },
          "execution_count": 77
        }
      ]
    },
    {
      "cell_type": "markdown",
      "metadata": {
        "id": "rclNnB3nwvVN",
        "colab_type": "text"
      },
      "source": [
        "Let's evaluate the approach again after the preparation:"
      ]
    },
    {
      "cell_type": "code",
      "metadata": {
        "id": "CTj1KKsFwvVQ",
        "colab_type": "code",
        "outputId": "25faca71-70ed-486e-d8c8-0e1d7b1a4ed7",
        "colab": {
          "base_uri": "https://localhost:8080/",
          "height": 357
        }
      },
      "source": [
        "wv_prepared_ranking = []\n",
        "for index,line in enumerate(prepared_validation):\n",
        "    if index%500==0:\n",
        "      print(index)\n",
        "    q, *ex = line\n",
        "    ranks = rank_candidates(q, ex, wv_embeddings)\n",
        "    wv_prepared_ranking.append([r[0] for r in ranks].index(0) + 1)"
      ],
      "execution_count": 0,
      "outputs": [
        {
          "output_type": "stream",
          "text": [
            "0\n",
            "500\n",
            "1000\n",
            "1500\n",
            "2000\n",
            "2500\n",
            "3000\n",
            "3500\n",
            "4000\n",
            "4500\n",
            "5000\n",
            "5500\n",
            "6000\n",
            "6500\n",
            "7000\n",
            "7500\n",
            "8000\n",
            "8500\n",
            "9000\n",
            "9500\n"
          ],
          "name": "stdout"
        }
      ]
    },
    {
      "cell_type": "code",
      "metadata": {
        "id": "PjlGITLcwvVV",
        "colab_type": "code",
        "outputId": "0214e0cc-f3de-43df-fadd-68312dcafac9",
        "colab": {
          "base_uri": "https://localhost:8080/",
          "height": 119
        }
      },
      "source": [
        "for k in [1, 5, 10, 100, 500, 1000]:\n",
        "    print(\"DCG@%4d: %.3f | Hits@%4d: %.3f\" % (k, dcg_score(wv_prepared_ranking, k), \n",
        "                                              k, hits_count(wv_prepared_ranking, k)))"
      ],
      "execution_count": 0,
      "outputs": [
        {
          "output_type": "stream",
          "text": [
            "DCG@   1: 0.306 | Hits@   1: 0.306\n",
            "DCG@   5: 0.379 | Hits@   5: 0.444\n",
            "DCG@  10: 0.396 | Hits@  10: 0.496\n",
            "DCG@ 100: 0.430 | Hits@ 100: 0.665\n",
            "DCG@ 500: 0.453 | Hits@ 500: 0.841\n",
            "DCG@1000: 0.469 | Hits@1000: 1.000\n"
          ],
          "name": "stdout"
        }
      ]
    },
    {
      "cell_type": "markdown",
      "metadata": {
        "id": "iCVe1knCwvVW",
        "colab_type": "text"
      },
      "source": [
        "Now, prepare also train and test data, because you will need it in the future:"
      ]
    },
    {
      "cell_type": "code",
      "metadata": {
        "id": "NaTqe-3qwvVW",
        "colab_type": "code",
        "colab": {}
      },
      "source": [
        "def prepare_file(in_, out_):\n",
        "    out = open(out_, 'w')\n",
        "    for line in open(in_, encoding='utf8'):\n",
        "        line = line.strip().split('\\t')\n",
        "        new_line = [text_prepare(q) for q in line]\n",
        "        print(*new_line, sep='\\t', file=out)\n",
        "    out.close()"
      ],
      "execution_count": 0,
      "outputs": []
    },
    {
      "cell_type": "code",
      "metadata": {
        "id": "6r0pmZD7wvVY",
        "colab_type": "code",
        "colab": {}
      },
      "source": [
        "prepare_file(\"data/train.tsv\",\"data/train2.tsv\")"
      ],
      "execution_count": 0,
      "outputs": []
    },
    {
      "cell_type": "code",
      "metadata": {
        "id": "IUALY8UYH829",
        "colab_type": "code",
        "colab": {}
      },
      "source": [
        "prepare_file(\"data/test.tsv\",\"data/test2.tsv\")"
      ],
      "execution_count": 0,
      "outputs": []
    },
    {
      "cell_type": "markdown",
      "metadata": {
        "id": "ghaelbeEwvVZ",
        "colab_type": "text"
      },
      "source": [
        "**Task 4 (W2VTokenizedRanks).** For each question from prepared *test.tsv* submit the ranks of the candidates to earn the points. The calculations should take about 3-5 minutes. Pay attention that the function *rank_candidates* returns a ranking, while in this case you should find a position in this ranking. Ranks should start with 1."
      ]
    },
    {
      "cell_type": "code",
      "metadata": {
        "id": "hrYUfUrbwvVZ",
        "colab_type": "code",
        "colab": {}
      },
      "source": [
        "from util import matrix_to_string"
      ],
      "execution_count": 0,
      "outputs": []
    },
    {
      "cell_type": "code",
      "metadata": {
        "id": "itnliVYJwvVc",
        "colab_type": "code",
        "outputId": "3d109db7-3754-4917-a4f7-8d4ab2b9ed70",
        "colab": {
          "base_uri": "https://localhost:8080/",
          "height": 54
        }
      },
      "source": [
        "w2v_ranks_results = []\n",
        "for line in open(\"data/test2.tsv\"):\n",
        "    q, *ex = line.strip().split('\\t')\n",
        "    ranks = rank_candidates(q, ex, wv_embeddings, 300)\n",
        "    ranked_candidates = [r[0] for r in ranks]\n",
        "    w2v_ranks_results.append([ranked_candidates.index(i) + 1 for i in range(len(ranked_candidates))])\n",
        "    \n",
        "grader.submit_tag('W2VTokenizedRanks', matrix_to_string(w2v_ranks_results))"
      ],
      "execution_count": 0,
      "outputs": [
        {
          "output_type": "stream",
          "text": [
            "Current answer for task W2VTokenizedRanks is: 95\t94\t7\t9\t64\t37\t32\t93\t24\t100\t98\t17\t60\t6\t97\t49\t70\t38\t42\t96\t30\t21\t2\t65\t67\t45\t27\t26\t57\t62\t11\t88\t56\t66\t7...\n"
          ],
          "name": "stdout"
        }
      ]
    },
    {
      "cell_type": "markdown",
      "metadata": {
        "id": "hCEPQtVgwvVe",
        "colab_type": "text"
      },
      "source": [
        "## Advanced solution: StarSpace embeddings\n",
        "\n",
        "Now you are ready to train your own word embeddings! In particular, you need to train embeddings specially for our task of duplicates detection. Unfortunately, StarSpace cannot be run on Windows and we recommend to use provided\n",
        "[docker container](https://github.com/hse-aml/natural-language-processing/blob/master/Docker-tutorial.md) or other alternatives. Don't delete results of this task because you will need it in the final project.\n",
        "\n",
        "### How it works and what's the main difference with word2vec?\n",
        "The main point in this section is that StarSpace can be trained specifically for some tasks. In contrast to word2vec model, which tries to train similar embeddings for words in similar contexts, StarSpace uses embeddings for the whole sentence (just as a sum of embeddings of words and phrases). Despite the fact that in both cases we get word embeddings as a result of the training, StarSpace embeddings are trained using some supervised data, e.g. a set of similar sentence pairs, and thus they can better suit the task.\n",
        "\n",
        "In our case, StarSpace should use two types of sentence pairs for training: \"positive\" and \"negative\". \"Positive\" examples are extracted from the train sample (duplicates, high similarity) and the \"negative\" examples are generated randomly (low similarity assumed). \n",
        "\n",
        "### How to choose the best params for the model?\n",
        "Normally, you would start with some default choice and then run extensive experiments to compare different strategies. However, we have some recommendations ready for you to save your time:\n",
        "- Be careful with choosing the suitable training mode. In this task we want to explore texts similarity which corresponds to *trainMode = 3*.\n",
        "- Use adagrad optimization (parameter *adagrad = true*).\n",
        "- Set the length of phrase equal to 1 (parameter *ngrams*), because we need embeddings only for words.\n",
        "- Don't use a large number of *epochs* (we think that 5 should be enough).\n",
        "- Try dimension *dim* equal to 100.\n",
        "- To compare embeddings usually *cosine* *similarity* is used.\n",
        "- Set *minCount* greater than 1 (for example, 2) if you don't want to get embeddings for extremely rare words.\n",
        "- Parameter *verbose = true* could show you the progress of the training process.\n",
        "- Set parameter *fileFormat* equals *labelDoc*.\n",
        "- Parameter *negSearchLimit* is responsible for a number of negative examples which is used during the training. We think that 10 will be enought for this task.\n",
        "- To increase a speed of training we recommend to set *learning rate* to 0.05."
      ]
    },
    {
      "cell_type": "markdown",
      "metadata": {
        "id": "TEs0gRdlwvVf",
        "colab_type": "text"
      },
      "source": [
        "Train StarSpace embeddings for unigrams on the train dataset. You don't need to change the format of the input data. Just don't forget to use prepared version of the training data. \n",
        "\n",
        "If you follow the instruction, the training process will take about 1 hour. The size of the embeddings' dictionary should be approximately 100 000 (number of lines in the result file). If you got significantly more than this number, try to check all the instructions above."
      ]
    },
    {
      "cell_type": "code",
      "metadata": {
        "id": "oNrEqU_6wvVf",
        "colab_type": "code",
        "outputId": "246b2bc8-734f-40fc-eda4-c119050e27d5",
        "colab": {
          "base_uri": "https://localhost:8080/",
          "height": 935
        }
      },
      "source": [
        "!Starspace/starspace train -trainFile './data/train2.tsv' -model \"sodd\" -trainMode 3 \\\n",
        "    -adagrad true -ngrams 1 -epoch 5 -dim 100 -minCount 2 -verbose true -fileFormat \"labelDoc\" \\\n",
        "    -negSearchLimit 10 -similarity \"cosine\" -lr 0.05"
      ],
      "execution_count": 0,
      "outputs": [
        {
          "output_type": "stream",
          "text": [
            "Arguments: \n",
            "lr: 0.05\n",
            "dim: 100\n",
            "epoch: 5\n",
            "maxTrainTime: 8640000\n",
            "validationPatience: 10\n",
            "saveEveryEpoch: 0\n",
            "loss: hinge\n",
            "margin: 0.05\n",
            "similarity: cosine\n",
            "maxNegSamples: 10\n",
            "negSearchLimit: 10\n",
            "batchSize: 5\n",
            "thread: 10\n",
            "minCount: 2\n",
            "minCountLabel: 1\n",
            "label: __label__\n",
            "label: __label__\n",
            "ngrams: 1\n",
            "bucket: 2000000\n",
            "adagrad: 1\n",
            "trainMode: 3\n",
            "fileFormat: labelDoc\n",
            "normalizeText: 0\n",
            "dropoutLHS: 0\n",
            "dropoutRHS: 0\n",
            "useWeight: 0\n",
            "weightSep: :\n",
            "Start to initialize starspace model.\n",
            "Build dict from input file : ./data/train2.tsv\n",
            "Read 12M words\n",
            "Number of words in dictionary:  95058\n",
            "Number of labels in dictionary: 0\n",
            "Loading data from file : ./data/train2.tsv\n",
            "Total number of examples loaded : 999740\n",
            "Initialized model weights. Model size :\n",
            "matrix : 95058 100\n",
            "Training epoch 0: 0.05 0.01\n",
            "Epoch: 100.0%  lr: 0.040000  loss: 0.043523  eta: 0h12m  tot: 0h3m8s  (20.0%)\n",
            " ---+++                Epoch    0 Train error : 0.04410281 +++--- ☃\n",
            "Training epoch 1: 0.04 0.01\n",
            "Epoch: 100.0%  lr: 0.030000  loss: 0.013356  eta: 0h8m  tot: 0h6m2s  (40.0%)\n",
            " ---+++                Epoch    1 Train error : 0.01327134 +++--- ☃\n",
            "Training epoch 2: 0.03 0.01\n",
            "Epoch: 100.0%  lr: 0.020000  loss: 0.009658  eta: 0h5m  tot: 0h8m53s  (60.0%)\n",
            " ---+++                Epoch    2 Train error : 0.00943194 +++--- ☃\n",
            "Training epoch 3: 0.02 0.01\n",
            "Epoch: 100.0%  lr: 0.010000  loss: 0.007685  eta: 0h2m  tot: 0h11m43s  (80.0%)\n",
            " ---+++                Epoch    3 Train error : 0.00767837 +++--- ☃\n",
            "Training epoch 4: 0.01 0.01\n",
            "Epoch: 100.0%  lr: 0.000000  loss: 0.006955  eta: <1min   tot: 0h14m33s  (100.0%)\n",
            " ---+++                Epoch    4 Train error : 0.00684783 +++--- ☃\n",
            "Saving model to file : sodd\n",
            "Saving model in tsv format : sodd.tsv\n"
          ],
          "name": "stdout"
        }
      ]
    },
    {
      "cell_type": "markdown",
      "metadata": {
        "collapsed": true,
        "id": "AO1PhxZvwvVh",
        "colab_type": "text"
      },
      "source": [
        "And now we can compare the new embeddings with the previous ones. You can find trained word vectors in the file *[model_file_name].tsv*. Upload the embeddings from StarSpace into a dict. "
      ]
    },
    {
      "cell_type": "code",
      "metadata": {
        "id": "BahSIoC2wvVh",
        "colab_type": "code",
        "colab": {}
      },
      "source": [
        "starspace_embeddings = {}\n",
        "for line in open('./sodd.tsv'):\n",
        "    word,*vec = line.strip().split()\n",
        "    vf = []\n",
        "    for v in vec:\n",
        "        # print(v)\n",
        "        vf.append(float(v))\n",
        "    starspace_embeddings[word] = np.array(vf)\n",
        "\n",
        "\n"
      ],
      "execution_count": 0,
      "outputs": []
    },
    {
      "cell_type": "code",
      "metadata": {
        "id": "j8qpxvTPzleL",
        "colab_type": "code",
        "colab": {}
      },
      "source": [
        ""
      ],
      "execution_count": 0,
      "outputs": []
    },
    {
      "cell_type": "code",
      "metadata": {
        "id": "u3fgGlbAwvVi",
        "colab_type": "code",
        "outputId": "4876be1f-0aee-40f4-8b2a-8014405672e9",
        "colab": {
          "base_uri": "https://localhost:8080/",
          "height": 867
        }
      },
      "source": [
        "ss_prepared_ranking = []\n",
        "for index,line in enumerate(prepared_validation):\n",
        "    if(index%200==0):\n",
        "      print(index)\n",
        "    q, *ex = line\n",
        "    ranks = rank_candidates(q, ex, starspace_embeddings, 100)\n",
        "    ss_prepared_ranking.append([r[0] for r in ranks].index(0) + 1)"
      ],
      "execution_count": 0,
      "outputs": [
        {
          "output_type": "stream",
          "text": [
            "0\n",
            "200\n",
            "400\n",
            "600\n",
            "800\n",
            "1000\n",
            "1200\n",
            "1400\n",
            "1600\n",
            "1800\n",
            "2000\n",
            "2200\n",
            "2400\n",
            "2600\n",
            "2800\n",
            "3000\n",
            "3200\n",
            "3400\n",
            "3600\n",
            "3800\n",
            "4000\n",
            "4200\n",
            "4400\n",
            "4600\n",
            "4800\n",
            "5000\n",
            "5200\n",
            "5400\n",
            "5600\n",
            "5800\n",
            "6000\n",
            "6200\n",
            "6400\n",
            "6600\n",
            "6800\n",
            "7000\n",
            "7200\n",
            "7400\n",
            "7600\n",
            "7800\n",
            "8000\n",
            "8200\n",
            "8400\n",
            "8600\n",
            "8800\n",
            "9000\n",
            "9200\n",
            "9400\n",
            "9600\n",
            "9800\n"
          ],
          "name": "stdout"
        }
      ]
    },
    {
      "cell_type": "code",
      "metadata": {
        "id": "RJBle4WcwvVj",
        "colab_type": "code",
        "outputId": "bf48bdce-48f8-4c39-ea9d-e3a5094ba725",
        "colab": {
          "base_uri": "https://localhost:8080/"
        }
      },
      "source": [
        "for k in [1, 5, 10, 100, 500, 1000]:\n",
        "    print(\"DCG@%4d: %.3f | Hits@%4d: %.3f\" % (k, dcg_score(ss_prepared_ranking, k), \n",
        "                                               k, hits_count(ss_prepared_ranking, k)))"
      ],
      "execution_count": 0,
      "outputs": [
        {
          "output_type": "stream",
          "text": [
            "DCG@   1: 0.504 | Hits@   1: 0.504\n",
            "DCG@   5: 0.608 | Hits@   5: 0.696\n",
            "DCG@  10: 0.626 | Hits@  10: 0.751\n",
            "DCG@ 100: 0.658 | Hits@ 100: 0.904\n",
            "DCG@ 500: 0.668 | Hits@ 500: 0.982\n",
            "DCG@1000: 0.670 | Hits@1000: 1.000\n"
          ],
          "name": "stdout"
        }
      ]
    },
    {
      "cell_type": "markdown",
      "metadata": {
        "id": "BmOyGCFQwvVk",
        "colab_type": "text"
      },
      "source": [
        "Due to training for the particular task with the supervised data, you should expect to obtain a higher quality than for the previous approach. In additiion, despite the fact that StarSpace's trained vectors have a smaller dimension than word2vec's, it provides better results in this task."
      ]
    },
    {
      "cell_type": "markdown",
      "metadata": {
        "id": "f2lvEOVgwvVk",
        "colab_type": "text"
      },
      "source": [
        "**Task 5 (StarSpaceRanks).** For each question from prepared *test.tsv* submit the ranks of the candidates for trained representation."
      ]
    },
    {
      "cell_type": "code",
      "metadata": {
        "id": "o9Y9y313wvVl",
        "colab_type": "code",
        "outputId": "a3845dbc-2bd8-4120-8c25-8adc0251e80e",
        "colab": {
          "base_uri": "https://localhost:8080/",
          "height": 54
        }
      },
      "source": [
        "starspace_ranks_results = []\n",
        "prepared_test_data = \"data/test2.tsv\"\n",
        "for line in open(prepared_test_data):\n",
        "    q, *ex = line.strip().split('\\t')\n",
        "    ranks = rank_candidates(q, ex, starspace_embeddings, 100)\n",
        "    ranked_candidates = [r[0] for r in ranks]\n",
        "    starspace_ranks_results.append([ranked_candidates.index(i) + 1 for i in range(len(ranked_candidates))])\n",
        "    \n",
        "grader.submit_tag('StarSpaceRanks', matrix_to_string(starspace_ranks_results))"
      ],
      "execution_count": 0,
      "outputs": [
        {
          "output_type": "stream",
          "text": [
            "Current answer for task StarSpaceRanks is: 91\t58\t42\t73\t35\t56\t84\t82\t79\t29\t13\t41\t20\t37\t93\t72\t8\t52\t40\t60\t81\t92\t5\t80\t99\t6\t69\t59\t51\t3\t45\t54\t31\t28\t78...\n"
          ],
          "name": "stdout"
        }
      ]
    },
    {
      "cell_type": "markdown",
      "metadata": {
        "id": "ioPZfbGVwvVm",
        "colab_type": "text"
      },
      "source": [
        "Please, **don't remove** the file with these embeddings because you will need them in the final project."
      ]
    },
    {
      "cell_type": "markdown",
      "metadata": {
        "id": "jwKdKhalwvVn",
        "colab_type": "text"
      },
      "source": [
        "### Authorization & Submission\n",
        "To submit assignment parts to Cousera platform, please, enter your e-mail and token into variables below. You can generate token on this programming assignment page. <b>Note:</b> Token expires 30 minutes after generation."
      ]
    },
    {
      "cell_type": "code",
      "metadata": {
        "id": "T5H_yV_lwvVn",
        "colab_type": "code",
        "outputId": "8a8e8b49-91e3-4680-9fe7-0f13d9b696eb",
        "colab": {
          "base_uri": "https://localhost:8080/",
          "height": 615
        }
      },
      "source": [
        "STUDENT_EMAIL = \"viniciusgomespe@gmail.com\"\n",
        "STUDENT_TOKEN = \"\" \n",
        "grader.status()"
      ],
      "execution_count": 0,
      "outputs": [
        {
          "output_type": "stream",
          "text": [
            "You want to submit these parts:\n",
            "Task Question2Vec: 0.019293891059027776\n",
            "-0.028727213541666668\n",
            "0.046056111653645836\n",
            "0.08525933159722222\n",
            "0.02430555555555...\n",
            "Task HitsCount: 1.0\n",
            "0.5\n",
            "1.0\n",
            "0.5\n",
            "1.0\n",
            "0.3333333333333333\n",
            "0.6666666666666666\n",
            "1.0\n",
            "0.1\n",
            "0.2\n",
            "0.3\n",
            "0.4\n",
            "0.5\n",
            "0.6\n",
            "0.7\n",
            "0.8\n",
            "0.9\n",
            "1....\n",
            "Task DCGScore: 1.0\n",
            "0.5\n",
            "0.8154648767857288\n",
            "0.5\n",
            "0.8154648767857288\n",
            "0.3333333333333333\n",
            "0.5436432511904858\n",
            "0.7103099178...\n",
            "Task W2VTokenizedRanks: 95\t94\t7\t9\t64\t37\t32\t93\t24\t100\t98\t17\t60\t6\t97\t49\t70\t38\t42\t96\t30\t21\t2\t65\t67\t45\t27\t26\t57\t62\t11\t88\t56\t66\t7...\n",
            "Task StarSpaceRanks: 91\t58\t42\t73\t35\t56\t84\t82\t79\t29\t13\t41\t20\t37\t93\t72\t8\t52\t40\t60\t81\t92\t5\t80\t99\t6\t69\t59\t51\t3\t45\t54\t31\t28\t78...\n"
          ],
          "name": "stdout"
        }
      ]
    },
    {
      "cell_type": "markdown",
      "metadata": {
        "id": "al80InuWwvVp",
        "colab_type": "text"
      },
      "source": [
        "If you want to submit these answers, run cell below"
      ]
    },
    {
      "cell_type": "code",
      "metadata": {
        "id": "NJGU4Y6CwvVq",
        "colab_type": "code",
        "outputId": "e2cc6c3b-eff9-4227-a633-c5ba67c3037e",
        "colab": {
          "base_uri": "https://localhost:8080/",
          "height": 34
        }
      },
      "source": [
        "grader.submit(STUDENT_EMAIL, STUDENT_TOKEN)"
      ],
      "execution_count": 0,
      "outputs": [
        {
          "output_type": "stream",
          "text": [
            "Submitted to Coursera platform. See results on assignment page!\n"
          ],
          "name": "stdout"
        }
      ]
    },
    {
      "cell_type": "code",
      "metadata": {
        "id": "rD4w7aFGPYCv",
        "colab_type": "code",
        "outputId": "5872de2a-c47a-43e5-a571-2a945bcc6fb3",
        "colab": {
          "base_uri": "https://localhost:8080/",
          "height": 122
        }
      },
      "source": [
        "from google.colab import drive\n",
        "drive.mount('/content/drive')"
      ],
      "execution_count": 0,
      "outputs": [
        {
          "output_type": "stream",
          "text": [
            "Go to this URL in a browser: https://accounts.google.com/o/oauth2/auth?client_id=947318989803-6bn6qk8qdgf4n4g3pfee6491hc0brc4i.apps.googleusercontent.com&redirect_uri=urn%3Aietf%3Awg%3Aoauth%3A2.0%3Aoob&scope=email%20https%3A%2F%2Fwww.googleapis.com%2Fauth%2Fdocs.test%20https%3A%2F%2Fwww.googleapis.com%2Fauth%2Fdrive%20https%3A%2F%2Fwww.googleapis.com%2Fauth%2Fdrive.photos.readonly%20https%3A%2F%2Fwww.googleapis.com%2Fauth%2Fpeopleapi.readonly&response_type=code\n",
            "\n",
            "Enter your authorization code:\n",
            "··········\n",
            "Mounted at /content/drive\n"
          ],
          "name": "stdout"
        }
      ]
    }
  ]
}